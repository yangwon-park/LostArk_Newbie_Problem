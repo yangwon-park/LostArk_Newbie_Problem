{
 "cells": [
  {
   "cell_type": "code",
   "execution_count": 93,
   "id": "86b683cb",
   "metadata": {
    "scrolled": false
   },
   "outputs": [],
   "source": [
    "import time, random\n",
    "from selenium import webdriver\n",
    "from selenium.webdriver.common.by import By\n",
    "from selenium.webdriver.common.keys import Keys\n",
    "from bs4 import BeautifulSoup\n",
    "\n",
    "options = webdriver.ChromeOptions()\n",
    "options.headless = True\n",
    "options.add_argument('window-size=2560x1440')\n",
    "options.add_argument('Mozilla/5.0 (Windows NT 10.0; Win64; x64) AppleWebKit/537.36 (KHTML, like Gecko) Chrome/98.0.4758.102 Safari/537.36')\n",
    "\n",
    "# driver = webdriver.Chrome(options=options)\n",
    "driver = webdriver.Chrome()\n",
    "\n",
    "# 게시판 : 질문과 답변 (한 페이지에 50개)\n",
    "# 키워드 : 뉴비\n",
    "# 최근 한달 뉴비의 어려움 => 7 페이지\n",
    "# 총 350개의 게시글을 데이터 수집\n",
    "\n",
    "# URL에 4822번호가 LoastArk의 질문과 답변 게시판을 의미하는 거 같다 (뇌피셜)\n",
    "# lostark가 wow든 무슨 글자든 4822만 일치하면 강제 매핑\n",
    "# url = 'https://www.inven.co.kr/board/lostark/4822'\n",
    "# driver.get(url)\n",
    "\n",
    "# 검색창 input 태그\n",
    "# keyword_input = driver.find_element(By.ID, 'sword')\n",
    "# keyword_input.send_keys(\"뉴비\")\n",
    "# keyword_input.send_keys(Keys.ENTER)\n",
    "\n",
    "   \n",
    "\n",
    "# 7페이지 (대략 한달 정도) 확인\n",
    "for i in range(1, 8):\n",
    "    main_url = \"https://www.inven.co.kr/board/lostark/4822?name=subject&keyword=%EB%89%B4%EB%B9%84&p={}\".format(i)\n",
    "    \n",
    "    driver.get(main_url)\n",
    "\n",
    "    # 게시글 번호 받아오기\n",
    "    # 게시글 하나 하나에 직접 접근하려고 하니까\n",
    "    # element is not attached to the page document 에러 발생\n",
    "    # 이 경우 selenium 객체를 매번 새로 생성하려하니 비효율적인 것 같아\n",
    "    # 차라리 처음 로딩 때 게시글 번호를 받은 후, 해당 번호로 게시글에 접근하는 것이\n",
    "    # 더 용이하다고 판단\n",
    "    board_num = driver.find_elements(By.CLASS_NAME, 'num')\n",
    "\n",
    "    # 게시글의 번호를 받아올 리스트 선언\n",
    "    num = []\n",
    "\n",
    "    for b in board_num:\n",
    "        num.append(b.text)\n",
    "\n",
    "        # CLASS_NAME이 num인 태그가 또 존재하므로\n",
    "        # 필요없는 값들은 제거\n",
    "        # 빈 문자열과 최근 게시글에 비해 매우 작은 게시글은 다 제외\n",
    "        num = [x for x in num if x and int(x) > 20]\n",
    "    "
   ]
  }
 ],
 "metadata": {
  "kernelspec": {
   "display_name": "Python 3 (ipykernel)",
   "language": "python",
   "name": "python3"
  },
  "language_info": {
   "codemirror_mode": {
    "name": "ipython",
    "version": 3
   },
   "file_extension": ".py",
   "mimetype": "text/x-python",
   "name": "python",
   "nbconvert_exporter": "python",
   "pygments_lexer": "ipython3",
   "version": "3.9.7"
  }
 },
 "nbformat": 4,
 "nbformat_minor": 5
}
