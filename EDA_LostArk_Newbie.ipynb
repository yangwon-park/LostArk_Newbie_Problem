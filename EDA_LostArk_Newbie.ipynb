{
 "cells": [
  {
   "cell_type": "code",
   "execution_count": 6,
   "id": "0fd2a831",
   "metadata": {},
   "outputs": [],
   "source": [
    "import pandas as pd\n",
    "import numpy as np\n",
    "import seaborn as sns\n",
    "import matplotlib as mpl\n",
    "import matplotlib.pyplot as plt"
   ]
  },
  {
   "cell_type": "markdown",
   "id": "ad448827",
   "metadata": {},
   "source": [
    "# 00. matplotlib 한글 깨짐 방지"
   ]
  },
  {
   "cell_type": "code",
   "execution_count": 5,
   "id": "4b47b60b",
   "metadata": {},
   "outputs": [
    {
     "data": {
      "image/png": "[encoded data removed]",
      "text/plain": [
       "<Figure size 432x288 with 1 Axes>"
      ]
     },
     "metadata": {
      "needs_background": "light"
     },
     "output_type": "display_data"
    }
   ],
   "source": [
    "import matplotlib.font_manager as fm\n",
    "\n",
    "# 현재 설치된 폰트 리스트\n",
    "# font_list = fm.findSystemFonts(fontpaths = None, fontext = 'ttf')\n",
    "# font_list[:]\n",
    "\n",
    "# matplotlibrc 파일의 경로 확인\n",
    "#print(mpl.matplotlib_fname())\n",
    "\n",
    "# 해당 폴더로 이동하여 내부 파일 전부 삭제 (캐시 삭제)\n",
    "# print(mpl.get_cachedir())\n",
    "\n",
    "plt.figure().add_subplot().set_title('안녕하세요')\n",
    "plt.show()"
   ]
  },
  {
   "cell_type": "code",
   "execution_count": 8,
   "id": "3f09ed73",
   "metadata": {},
   "outputs": [],
   "source": [
    "df = pd.read_csv('2022-02-24로아_final.csv')"
   ]
  },
  {
   "cell_type": "markdown",
   "id": "40923bc6",
   "metadata": {},
   "source": [
    "# 01. 데이터 구조 파악"
   ]
  },
  {
   "cell_type": "code",
   "execution_count": 12,
   "id": "430d7ff6",
   "metadata": {},
   "outputs": [
    {
     "data": {
      "text/plain": [
       "(340, 3)"
      ]
     },
     "execution_count": 12,
     "metadata": {},
     "output_type": "execute_result"
    }
   ],
   "source": [
    "# row, col 파악\n",
    "# 결측값이 들어오지 않아서 예정된 350개 보다 더 작은 340개의 데이터가 들어옴\n",
    "df.shape"
   ]
  },
  {
   "cell_type": "code",
   "execution_count": 13,
   "id": "62659a87",
   "metadata": {},
   "outputs": [
    {
     "data": {
      "text/plain": [
       "title      0\n",
       "content    0\n",
       "comment    0\n",
       "dtype: int64"
      ]
     },
     "execution_count": 13,
     "metadata": {},
     "output_type": "execute_result"
    }
   ],
   "source": [
    "df.isnull().sum()"
   ]
  },
  {
   "cell_type": "code",
   "execution_count": 15,
   "id": "6ba7c743",
   "metadata": {},
   "outputs": [
    {
     "name": "stdout",
     "output_type": "stream",
     "text": [
      "<class 'pandas.core.frame.DataFrame'>\n",
      "RangeIndex: 340 entries, 0 to 339\n",
      "Data columns (total 3 columns):\n",
      " #   Column   Non-Null Count  Dtype \n",
      "---  ------   --------------  ----- \n",
      " 0   title    340 non-null    object\n",
      " 1   content  340 non-null    object\n",
      " 2   comment  340 non-null    object\n",
      "dtypes: object(3)\n",
      "memory usage: 8.1+ KB\n"
     ]
    }
   ],
   "source": [
    "# 전체 데이터 구조 파악\n",
    "df.info()"
   ]
  },
  {
   "cell_type": "code",
   "execution_count": 17,
   "id": "f3cd15ba",
   "metadata": {},
   "outputs": [
    {
     "data": {
      "text/html": [
       "<div>\n",
       "<style scoped>\n",
       "    .dataframe tbody tr th:only-of-type {\n",
       "        vertical-align: middle;\n",
       "    }\n",
       "\n",
       "    .dataframe tbody tr th {\n",
       "        vertical-align: top;\n",
       "    }\n",
       "\n",
       "    .dataframe thead th {\n",
       "        text-align: right;\n",
       "    }\n",
       "</style>\n",
       "<table border=\"1\" class=\"dataframe\">\n",
       "  <thead>\n",
       "    <tr style=\"text-align: right;\">\n",
       "      <th></th>\n",
       "      <th>title</th>\n",
       "      <th>content</th>\n",
       "      <th>comment</th>\n",
       "    </tr>\n",
       "  </thead>\n",
       "  <tbody>\n",
       "    <tr>\n",
       "      <th>0</th>\n",
       "      <td>뉴비 정박모드</td>\n",
       "      <td>정박 모드에서 출항 준비라는데 어떻게 해야되는건가요??</td>\n",
       "      <td>항구앞바다로가서z키누르시고,사용하실배선택하고,선원집어넣고,출항하기누르시고,m키눌러서...</td>\n",
       "    </tr>\n",
       "    <tr>\n",
       "      <th>1</th>\n",
       "      <td>뉴비 에포나 질문</td>\n",
       "      <td>스익 끝내서 너튜브 보고 따라하는중인데요모론토의 대리인 에포나퀘 하려면 해당 일반퀘...</td>\n",
       "      <td>에포나퀘스트는점핑권점핑권쓰고나면특정조건의에포나퀘스트제외하곤공유되어있을거에요.패치했는...</td>\n",
       "    </tr>\n",
       "    <tr>\n",
       "      <th>2</th>\n",
       "      <td>1415 뉴비 하익 홀나 이제 뭐하나용 ?ㅠ</td>\n",
       "      <td>15만원쯤 현질하고 하익으루 시작하니까 걍 몇일 하니까 1415 되더라고요 ㅠ;;*...</td>\n",
       "      <td>1.스킬포인트는천천히모으시면돼요!2.각인처음맞추는거면어려우셧을텐데수고많으셧어요!아브...</td>\n",
       "    </tr>\n",
       "    <tr>\n",
       "      <th>3</th>\n",
       "      <td>1440 뉴비 소서 데자뷰 리허설 질문이요!</td>\n",
       "      <td>곧 1445를 앞두고있는데요저번주에 리허설 2관까진 깻고 지금은 강화해서 데자뷰가 ...</td>\n",
       "      <td>네무족건가시는게좋아용~어렵지않습니다.데자뷰는</td>\n",
       "    </tr>\n",
       "    <tr>\n",
       "      <th>4</th>\n",
       "      <td>로아 이틀차 쌩뉴비애오 첫캐 워로드 잡고 스익중인데</td>\n",
       "      <td>1. 원래 워로드에 하익도 쓰려고 했는데 3/16까지 1302 못찍을 거 같으면 점...</td>\n",
       "      <td>워로드를스익으로밀면서본캐하실꺼면키워보고싶은캐릭이나스킬멋지거나워로드대신에고민했던걸하시...</td>\n",
       "    </tr>\n",
       "  </tbody>\n",
       "</table>\n",
       "</div>"
      ],
      "text/plain": [
       "                          title  \\\n",
       "0                       뉴비 정박모드   \n",
       "1                     뉴비 에포나 질문   \n",
       "2      1415 뉴비 하익 홀나 이제 뭐하나용 ?ㅠ   \n",
       "3      1440 뉴비 소서 데자뷰 리허설 질문이요!   \n",
       "4  로아 이틀차 쌩뉴비애오 첫캐 워로드 잡고 스익중인데   \n",
       "\n",
       "                                             content  \\\n",
       "0                     정박 모드에서 출항 준비라는데 어떻게 해야되는건가요??   \n",
       "1  스익 끝내서 너튜브 보고 따라하는중인데요모론토의 대리인 에포나퀘 하려면 해당 일반퀘...   \n",
       "2  15만원쯤 현질하고 하익으루 시작하니까 걍 몇일 하니까 1415 되더라고요 ㅠ;;*...   \n",
       "3  곧 1445를 앞두고있는데요저번주에 리허설 2관까진 깻고 지금은 강화해서 데자뷰가 ...   \n",
       "4  1. 원래 워로드에 하익도 쓰려고 했는데 3/16까지 1302 못찍을 거 같으면 점...   \n",
       "\n",
       "                                             comment  \n",
       "0  항구앞바다로가서z키누르시고,사용하실배선택하고,선원집어넣고,출항하기누르시고,m키눌러서...  \n",
       "1  에포나퀘스트는점핑권점핑권쓰고나면특정조건의에포나퀘스트제외하곤공유되어있을거에요.패치했는...  \n",
       "2  1.스킬포인트는천천히모으시면돼요!2.각인처음맞추는거면어려우셧을텐데수고많으셧어요!아브...  \n",
       "3                           네무족건가시는게좋아용~어렵지않습니다.데자뷰는  \n",
       "4  워로드를스익으로밀면서본캐하실꺼면키워보고싶은캐릭이나스킬멋지거나워로드대신에고민했던걸하시...  "
      ]
     },
     "execution_count": 17,
     "metadata": {},
     "output_type": "execute_result"
    }
   ],
   "source": [
    "# 상위 5개 데이터 확인\n",
    "df.head()"
   ]
  },
  {
   "cell_type": "code",
   "execution_count": 23,
   "id": "d5fc10b1",
   "metadata": {},
   "outputs": [],
   "source": [
    "# 혹시나 중복되어 들어온 데이터가 있나 확인\n",
    "df = df.drop_duplicates(['title', 'content'], keep='first')"
   ]
  },
  {
   "cell_type": "code",
   "execution_count": 25,
   "id": "119abd6d",
   "metadata": {},
   "outputs": [
    {
     "data": {
      "text/plain": [
       "(340, 3)"
      ]
     },
     "execution_count": 25,
     "metadata": {},
     "output_type": "execute_result"
    }
   ],
   "source": [
    "# 기존값과 변화 없으므로 중복된 데이터가 없다고 판정\n",
    "df.shape"
   ]
  },
  {
   "cell_type": "markdown",
   "id": "0a7277cc",
   "metadata": {},
   "source": [
    "# 데이터 전처리\n",
    "- KoNLPY 설치 과정\n",
    "    - [KoNLPY 설치 참고](https://konlpy.org/en/latest/install/)\n",
    "    - Windows에서 KoNLPY를 사용하려면 jdk1.7 이상이 설치되어 있어야 함\n",
    "        - [jdk1.8 설치](https://www.oracle.com/java/technologies/downloads/#java8-windows)\n",
    "    - pip install --upgrade pip\n",
    "    - [JPype 다운로드](https://www.lfd.uci.edu/~gohlke/pythonlibs/#jpype)\n",
    "    - pip install JPype1-1.3.0-cp37-cp37-win_amd64.whl\n",
    "        - 0.5.7 이상, 본인 파이썬 버전, 윈도우 32 or 64 bit에 맞춰서 설치\n",
    "        - whl 파일을 다운로드 받은 경로에서 해당 명령어 실행   \n",
    "    - pip install konlpy\n",
    "    - [KoNLPy API](https://konlpy.org/ko/v0.4.3/morph/)\n",
    "- Mecab 설치 과정\n",
    "    - [Mecab 설치 참고](https://lsjsj92.tistory.com/612)\n",
    "    - [mecab-ko-msvc](https://github.com/Pusnow/mecab-ko-msvc/releases/tag/release-0.9.2-msvc-3) => 윈도우 bit에 맞춰서 다운로드\n",
    "    - [mecab-ko-dic-msvc.zip](https://github.com/Pusnow/mecab-ko-dic-msvc/releases/tag/mecab-ko-dic-2.1.1-20180720-msvc-2) => mecab-ko-dic-msvc.zip 다운로드\n",
    "    - C:/에 mecab 디렉토리 생성 => 위 두 zip파일 mecab 디렉토리에 압축해제\n",
    "    - [mecab_python-0.996_ko_0.9.2_msvc-cp37-cp37m-win_amd64.whl](https://github.com/Pusnow/mecab-python-msvc/releases/tag/mecab_python-0.996_ko_0.9.2_msvc-2)\n",
    "        - 본인 파이썬 버젼, 윈도우 32 or 64 bit에 맞춰서 설치 (3.8 이상 지원 X)\n",
    "        - whl 파일을 다운로드 받은 경로에서 해당 명령어 실행"
   ]
  },
  {
   "cell_type": "code",
   "execution_count": 11,
   "id": "240e57cc",
   "metadata": {},
   "outputs": [],
   "source": [
    "from konlpy.tag import Mecab\n",
    "\n",
    "# mecab-ko-dic-msvc.zip의 압축을 푼 경로에 있음\n",
    "m = Mecab('C:\\mecab\\mecab-ko-dic')"
   ]
  }
 ],
 "metadata": {
  "kernelspec": {
   "display_name": "Python 3 (ipykernel)",
   "language": "python",
   "name": "python3"
  },
  "language_info": {
   "codemirror_mode": {
    "name": "ipython",
    "version": 3
   },
   "file_extension": ".py",
   "mimetype": "text/x-python",
   "name": "python",
   "nbconvert_exporter": "python",
   "pygments_lexer": "ipython3",
   "version": "3.7.11"
  }
 },
 "nbformat": 4,
 "nbformat_minor": 5
}
